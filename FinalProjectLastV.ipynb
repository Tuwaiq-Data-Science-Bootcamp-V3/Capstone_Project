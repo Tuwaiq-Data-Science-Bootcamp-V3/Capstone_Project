{
 "cells": [
  {
   "cell_type": "code",
   "execution_count": 1,
   "id": "b3602af4",
   "metadata": {},
   "outputs": [],
   "source": [
    "import os\n",
    "import pandas as pd\n",
    "import numpy as np"
   ]
  },
  {
   "cell_type": "markdown",
   "id": "9c710ed3",
   "metadata": {},
   "source": [
    "# read all datasets"
   ]
  },
  {
   "cell_type": "code",
   "execution_count": 2,
   "id": "79067e81",
   "metadata": {},
   "outputs": [],
   "source": [
    "RAVDESS = \"dataset/RAVDESS/audio_speech_actors_01-24/\"\n",
    "CREMA = \"dataset/AudioWAV/\"\n",
    "TESS = \"dataset/TESS/TESS Toronto emotional speech set data/\"\n",
    "SAVEE = \"dataset/ALL/\"\n",
    "dataset_dir = \"dataset/Emotional_Speech_Dataset/\" # الباث للداتا سيت العربية لكن لا نستطيع مشاركتها نظرا لطلب الخصوصية من المصدر"
   ]
  },
  {
   "cell_type": "code",
   "execution_count": 3,
   "id": "f10986e2",
   "metadata": {},
   "outputs": [
    {
     "data": {
      "text/html": [
       "<div>\n",
       "<style scoped>\n",
       "    .dataframe tbody tr th:only-of-type {\n",
       "        vertical-align: middle;\n",
       "    }\n",
       "\n",
       "    .dataframe tbody tr th {\n",
       "        vertical-align: top;\n",
       "    }\n",
       "\n",
       "    .dataframe thead th {\n",
       "        text-align: right;\n",
       "    }\n",
       "</style>\n",
       "<table border=\"1\" class=\"dataframe\">\n",
       "  <thead>\n",
       "    <tr style=\"text-align: right;\">\n",
       "      <th></th>\n",
       "      <th>path</th>\n",
       "      <th>sex</th>\n",
       "      <th>emotion</th>\n",
       "    </tr>\n",
       "  </thead>\n",
       "  <tbody>\n",
       "    <tr>\n",
       "      <th>0</th>\n",
       "      <td>dataset/RAVDESS/audio_speech_actors_01-24/Acto...</td>\n",
       "      <td>female</td>\n",
       "      <td>angry</td>\n",
       "    </tr>\n",
       "    <tr>\n",
       "      <th>1</th>\n",
       "      <td>dataset/RAVDESS/audio_speech_actors_01-24/Acto...</td>\n",
       "      <td>female</td>\n",
       "      <td>angry</td>\n",
       "    </tr>\n",
       "    <tr>\n",
       "      <th>2</th>\n",
       "      <td>dataset/RAVDESS/audio_speech_actors_01-24/Acto...</td>\n",
       "      <td>female</td>\n",
       "      <td>sad</td>\n",
       "    </tr>\n",
       "    <tr>\n",
       "      <th>3</th>\n",
       "      <td>dataset/RAVDESS/audio_speech_actors_01-24/Acto...</td>\n",
       "      <td>female</td>\n",
       "      <td>sad</td>\n",
       "    </tr>\n",
       "    <tr>\n",
       "      <th>4</th>\n",
       "      <td>dataset/RAVDESS/audio_speech_actors_01-24/Acto...</td>\n",
       "      <td>female</td>\n",
       "      <td>happy</td>\n",
       "    </tr>\n",
       "  </tbody>\n",
       "</table>\n",
       "</div>"
      ],
      "text/plain": [
       "                                                path     sex emotion\n",
       "0  dataset/RAVDESS/audio_speech_actors_01-24/Acto...  female   angry\n",
       "1  dataset/RAVDESS/audio_speech_actors_01-24/Acto...  female   angry\n",
       "2  dataset/RAVDESS/audio_speech_actors_01-24/Acto...  female     sad\n",
       "3  dataset/RAVDESS/audio_speech_actors_01-24/Acto...  female     sad\n",
       "4  dataset/RAVDESS/audio_speech_actors_01-24/Acto...  female   happy"
      ]
     },
     "execution_count": 3,
     "metadata": {},
     "output_type": "execute_result"
    }
   ],
   "source": [
    "ravdess_dir_lis = os.listdir(RAVDESS)\n",
    "path_list = []\n",
    "gender_list = []\n",
    "emotion_list = []\n",
    "\n",
    "emotion_dic = {\n",
    "    '03' : 'happy',\n",
    "    '01' : 'neutral',\n",
    "    '04' : 'sad',\n",
    "    '05' : 'angry',\n",
    "}\n",
    "\n",
    "for directory in ravdess_dir_lis:\n",
    "    actor_files = os.listdir(os.path.join(RAVDESS, directory))\n",
    "    for audio_file in actor_files: \n",
    "        part = audio_file.split('.')[0]\n",
    "        key = part.split('-')[2]\n",
    "        if key in emotion_dic:\n",
    "            gender_code = int(part.split('-')[6])\n",
    "            path_list.append(f\"{RAVDESS}{directory}/{audio_file}\")\n",
    "            gender_list.append('female' if gender_code & 1 == 0 else 'male')\n",
    "            emotion_list.append(emotion_dic[key])\n",
    "            \n",
    "ravdess_df = pd.concat([\n",
    "    pd.DataFrame(path_list, columns=['path']),\n",
    "    pd.DataFrame(gender_list, columns=['sex']),\n",
    "    pd.DataFrame(emotion_list, columns=['emotion'])\n",
    "], axis=1)\n",
    "\n",
    "ravdess_df.head()"
   ]
  },
  {
   "cell_type": "code",
   "execution_count": 4,
   "id": "c73e4e34",
   "metadata": {},
   "outputs": [
    {
     "data": {
      "text/html": [
       "<div>\n",
       "<style scoped>\n",
       "    .dataframe tbody tr th:only-of-type {\n",
       "        vertical-align: middle;\n",
       "    }\n",
       "\n",
       "    .dataframe tbody tr th {\n",
       "        vertical-align: top;\n",
       "    }\n",
       "\n",
       "    .dataframe thead th {\n",
       "        text-align: right;\n",
       "    }\n",
       "</style>\n",
       "<table border=\"1\" class=\"dataframe\">\n",
       "  <thead>\n",
       "    <tr style=\"text-align: right;\">\n",
       "      <th></th>\n",
       "      <th>path</th>\n",
       "      <th>sex</th>\n",
       "      <th>emotion</th>\n",
       "    </tr>\n",
       "  </thead>\n",
       "  <tbody>\n",
       "    <tr>\n",
       "      <th>0</th>\n",
       "      <td>dataset/AudioWAV/1028_IEO_SAD_HI.wav</td>\n",
       "      <td>female</td>\n",
       "      <td>sad</td>\n",
       "    </tr>\n",
       "    <tr>\n",
       "      <th>1</th>\n",
       "      <td>dataset/AudioWAV/1048_IEO_ANG_HI.wav</td>\n",
       "      <td>male</td>\n",
       "      <td>angry</td>\n",
       "    </tr>\n",
       "    <tr>\n",
       "      <th>2</th>\n",
       "      <td>dataset/AudioWAV/1080_IEO_HAP_HI.wav</td>\n",
       "      <td>male</td>\n",
       "      <td>happy</td>\n",
       "    </tr>\n",
       "    <tr>\n",
       "      <th>3</th>\n",
       "      <td>dataset/AudioWAV/1059_IEO_SAD_HI.wav</td>\n",
       "      <td>male</td>\n",
       "      <td>sad</td>\n",
       "    </tr>\n",
       "    <tr>\n",
       "      <th>4</th>\n",
       "      <td>dataset/AudioWAV/1039_IEO_ANG_HI.wav</td>\n",
       "      <td>male</td>\n",
       "      <td>angry</td>\n",
       "    </tr>\n",
       "  </tbody>\n",
       "</table>\n",
       "</div>"
      ],
      "text/plain": [
       "                                   path     sex emotion\n",
       "0  dataset/AudioWAV/1028_IEO_SAD_HI.wav  female     sad\n",
       "1  dataset/AudioWAV/1048_IEO_ANG_HI.wav    male   angry\n",
       "2  dataset/AudioWAV/1080_IEO_HAP_HI.wav    male   happy\n",
       "3  dataset/AudioWAV/1059_IEO_SAD_HI.wav    male     sad\n",
       "4  dataset/AudioWAV/1039_IEO_ANG_HI.wav    male   angry"
      ]
     },
     "execution_count": 4,
     "metadata": {},
     "output_type": "execute_result"
    }
   ],
   "source": [
    "crema_dir_list = os.listdir(CREMA)\n",
    "path_list = []\n",
    "gender_list = []\n",
    "emotion_list = []\n",
    "\n",
    "emotion_dic = {\n",
    "    'HAP' : 'happy',\n",
    "    'NEU' : 'neutral',\n",
    "    'SAD' : 'sad',\n",
    "    'ANG' : 'angry',\n",
    "}\n",
    "\n",
    "female_id_list = [\n",
    "    '1002', '1003', '1004', '1006', '1007', '1008', '1009', '1010', '1012', '1013', '1018', \n",
    "    '1020', '1021', '1024', '1025', '1028', '1029', '1030', '1037', '1043', '1046', '1047', \n",
    "    '1049', '1052', '1053', '1054', '1055', '1056', '1058', '1060', '1061', '1063', '1072', \n",
    "    '1073', '1074', '1075', '1076', '1078', '1079', '1082', '1084', '1089', '1091',\n",
    "]\n",
    "\n",
    "for audio_file in crema_dir_list:\n",
    "    part = audio_file.split('_')\n",
    "    key = part[2]\n",
    "    if key in emotion_dic and part[3] == 'HI.wav':\n",
    "        path_list.append(f\"{CREMA}{audio_file}\")\n",
    "        gender_list.append('female' if part[0] in female_id_list else 'male')\n",
    "        emotion_list.append(emotion_dic[key])\n",
    "\n",
    "crema_df = pd.concat([\n",
    "    pd.DataFrame(path_list, columns=['path']),\n",
    "    pd.DataFrame(gender_list, columns=['sex']),\n",
    "    pd.DataFrame(emotion_list, columns=['emotion'])\n",
    "], axis=1)\n",
    "\n",
    "crema_df.head()"
   ]
  },
  {
   "cell_type": "code",
   "execution_count": 5,
   "id": "7d49f160",
   "metadata": {},
   "outputs": [
    {
     "data": {
      "text/html": [
       "<div>\n",
       "<style scoped>\n",
       "    .dataframe tbody tr th:only-of-type {\n",
       "        vertical-align: middle;\n",
       "    }\n",
       "\n",
       "    .dataframe tbody tr th {\n",
       "        vertical-align: top;\n",
       "    }\n",
       "\n",
       "    .dataframe thead th {\n",
       "        text-align: right;\n",
       "    }\n",
       "</style>\n",
       "<table border=\"1\" class=\"dataframe\">\n",
       "  <thead>\n",
       "    <tr style=\"text-align: right;\">\n",
       "      <th></th>\n",
       "      <th>path</th>\n",
       "      <th>sex</th>\n",
       "      <th>emotion</th>\n",
       "    </tr>\n",
       "  </thead>\n",
       "  <tbody>\n",
       "    <tr>\n",
       "      <th>0</th>\n",
       "      <td>dataset/TESS/TESS Toronto emotional speech set...</td>\n",
       "      <td>female</td>\n",
       "      <td>happy</td>\n",
       "    </tr>\n",
       "    <tr>\n",
       "      <th>1</th>\n",
       "      <td>dataset/TESS/TESS Toronto emotional speech set...</td>\n",
       "      <td>female</td>\n",
       "      <td>happy</td>\n",
       "    </tr>\n",
       "    <tr>\n",
       "      <th>2</th>\n",
       "      <td>dataset/TESS/TESS Toronto emotional speech set...</td>\n",
       "      <td>female</td>\n",
       "      <td>happy</td>\n",
       "    </tr>\n",
       "    <tr>\n",
       "      <th>3</th>\n",
       "      <td>dataset/TESS/TESS Toronto emotional speech set...</td>\n",
       "      <td>female</td>\n",
       "      <td>happy</td>\n",
       "    </tr>\n",
       "    <tr>\n",
       "      <th>4</th>\n",
       "      <td>dataset/TESS/TESS Toronto emotional speech set...</td>\n",
       "      <td>female</td>\n",
       "      <td>happy</td>\n",
       "    </tr>\n",
       "  </tbody>\n",
       "</table>\n",
       "</div>"
      ],
      "text/plain": [
       "                                                path     sex emotion\n",
       "0  dataset/TESS/TESS Toronto emotional speech set...  female   happy\n",
       "1  dataset/TESS/TESS Toronto emotional speech set...  female   happy\n",
       "2  dataset/TESS/TESS Toronto emotional speech set...  female   happy\n",
       "3  dataset/TESS/TESS Toronto emotional speech set...  female   happy\n",
       "4  dataset/TESS/TESS Toronto emotional speech set...  female   happy"
      ]
     },
     "execution_count": 5,
     "metadata": {},
     "output_type": "execute_result"
    }
   ],
   "source": [
    "tess_dir_list = os.listdir(TESS)\n",
    "path_list = []\n",
    "gender_list = []\n",
    "emotion_list = []\n",
    "\n",
    "emotion_dic = {\n",
    "    'happy': 'happy',\n",
    "    'neutral': 'neutral',\n",
    "    'sad': 'sad',\n",
    "    'angry': 'angry',\n",
    "}\n",
    "\n",
    "for directory in tess_dir_list:\n",
    "    audio_files = os.listdir(os.path.join(TESS, directory))\n",
    "    for audio_file in audio_files:\n",
    "        if not audio_file.endswith('.wav'):  # Skip files that do not have the expected extension\n",
    "            continue\n",
    "        part = audio_file.split('.')[0]\n",
    "        split_parts = part.split('_')\n",
    "        if len(split_parts) < 3:\n",
    "            print(f\"Invalid audio_file format: {audio_file}\")\n",
    "            continue\n",
    "        key = split_parts[2]\n",
    "        if key in emotion_dic:\n",
    "            path_list.append(f\"{TESS}{directory}/{audio_file}\")\n",
    "            gender_list.append('female')  # female only dataset\n",
    "            emotion_list.append(emotion_dic[key])\n",
    "\n",
    "tess_df = pd.concat([\n",
    "    pd.DataFrame(path_list, columns=['path']),\n",
    "    pd.DataFrame(gender_list, columns=['sex']),\n",
    "    pd.DataFrame(emotion_list, columns=['emotion'])\n",
    "], axis=1)\n",
    "tess_df.head()\n"
   ]
  },
  {
   "cell_type": "code",
   "execution_count": 6,
   "id": "c3d772f4",
   "metadata": {},
   "outputs": [
    {
     "data": {
      "text/html": [
       "<div>\n",
       "<style scoped>\n",
       "    .dataframe tbody tr th:only-of-type {\n",
       "        vertical-align: middle;\n",
       "    }\n",
       "\n",
       "    .dataframe tbody tr th {\n",
       "        vertical-align: top;\n",
       "    }\n",
       "\n",
       "    .dataframe thead th {\n",
       "        text-align: right;\n",
       "    }\n",
       "</style>\n",
       "<table border=\"1\" class=\"dataframe\">\n",
       "  <thead>\n",
       "    <tr style=\"text-align: right;\">\n",
       "      <th></th>\n",
       "      <th>path</th>\n",
       "      <th>sex</th>\n",
       "      <th>emotion</th>\n",
       "    </tr>\n",
       "  </thead>\n",
       "  <tbody>\n",
       "    <tr>\n",
       "      <th>0</th>\n",
       "      <td>dataset/ALL/JK_sa01.wav</td>\n",
       "      <td>male</td>\n",
       "      <td>sad</td>\n",
       "    </tr>\n",
       "    <tr>\n",
       "      <th>1</th>\n",
       "      <td>dataset/ALL/JK_sa15.wav</td>\n",
       "      <td>male</td>\n",
       "      <td>sad</td>\n",
       "    </tr>\n",
       "    <tr>\n",
       "      <th>2</th>\n",
       "      <td>dataset/ALL/DC_n13.wav</td>\n",
       "      <td>male</td>\n",
       "      <td>neutral</td>\n",
       "    </tr>\n",
       "    <tr>\n",
       "      <th>3</th>\n",
       "      <td>dataset/ALL/DC_n07.wav</td>\n",
       "      <td>male</td>\n",
       "      <td>neutral</td>\n",
       "    </tr>\n",
       "    <tr>\n",
       "      <th>4</th>\n",
       "      <td>dataset/ALL/JK_n20.wav</td>\n",
       "      <td>male</td>\n",
       "      <td>neutral</td>\n",
       "    </tr>\n",
       "  </tbody>\n",
       "</table>\n",
       "</div>"
      ],
      "text/plain": [
       "                      path   sex  emotion\n",
       "0  dataset/ALL/JK_sa01.wav  male      sad\n",
       "1  dataset/ALL/JK_sa15.wav  male      sad\n",
       "2   dataset/ALL/DC_n13.wav  male  neutral\n",
       "3   dataset/ALL/DC_n07.wav  male  neutral\n",
       "4   dataset/ALL/JK_n20.wav  male  neutral"
      ]
     },
     "execution_count": 6,
     "metadata": {},
     "output_type": "execute_result"
    }
   ],
   "source": [
    "savee_dir_list = os.listdir(SAVEE)\n",
    "path_list = []\n",
    "gender_list = []\n",
    "emotion_list = []\n",
    "\n",
    "emotion_dic = {\n",
    "    'h'  : 'happy',\n",
    "    'n'  : 'neutral',\n",
    "    'sa' : 'sad',\n",
    "    'a'  : 'angry',\n",
    "}\n",
    "\n",
    "for audio_file in savee_dir_list:\n",
    "    part = audio_file.split('_')[1]\n",
    "    key = part[:-6]\n",
    "    if key in emotion_dic:\n",
    "        path_list.append(f\"{SAVEE}{audio_file}\")\n",
    "        gender_list.append('male') # male only dataset\n",
    "        emotion_list.append(emotion_dic[key])\n",
    "        \n",
    "savee_df = pd.concat([\n",
    "    pd.DataFrame(path_list, columns=['path']),\n",
    "    pd.DataFrame(gender_list, columns=['sex']),\n",
    "    pd.DataFrame(emotion_list, columns=['emotion'])\n",
    "], axis=1)\n",
    "\n",
    "savee_df.head()"
   ]
  },
  {
   "cell_type": "code",
   "execution_count": 7,
   "id": "45a0c5f3",
   "metadata": {},
   "outputs": [
    {
     "data": {
      "text/html": [
       "<div>\n",
       "<style scoped>\n",
       "    .dataframe tbody tr th:only-of-type {\n",
       "        vertical-align: middle;\n",
       "    }\n",
       "\n",
       "    .dataframe tbody tr th {\n",
       "        vertical-align: top;\n",
       "    }\n",
       "\n",
       "    .dataframe thead th {\n",
       "        text-align: right;\n",
       "    }\n",
       "</style>\n",
       "<table border=\"1\" class=\"dataframe\">\n",
       "  <thead>\n",
       "    <tr style=\"text-align: right;\">\n",
       "      <th></th>\n",
       "      <th>path</th>\n",
       "      <th>sex</th>\n",
       "      <th>emotion</th>\n",
       "    </tr>\n",
       "  </thead>\n",
       "  <tbody>\n",
       "    <tr>\n",
       "      <th>0</th>\n",
       "      <td>dataset/Emotional_Speech_Dataset/Angry/Angry-0...</td>\n",
       "      <td>female</td>\n",
       "      <td>angry</td>\n",
       "    </tr>\n",
       "    <tr>\n",
       "      <th>1</th>\n",
       "      <td>dataset/Emotional_Speech_Dataset/Angry/Angry-0...</td>\n",
       "      <td>female</td>\n",
       "      <td>angry</td>\n",
       "    </tr>\n",
       "    <tr>\n",
       "      <th>2</th>\n",
       "      <td>dataset/Emotional_Speech_Dataset/Angry/Angry-3...</td>\n",
       "      <td>male</td>\n",
       "      <td>angry</td>\n",
       "    </tr>\n",
       "    <tr>\n",
       "      <th>3</th>\n",
       "      <td>dataset/Emotional_Speech_Dataset/Angry/Angry-0...</td>\n",
       "      <td>male</td>\n",
       "      <td>angry</td>\n",
       "    </tr>\n",
       "    <tr>\n",
       "      <th>4</th>\n",
       "      <td>dataset/Emotional_Speech_Dataset/Angry/Angry-1...</td>\n",
       "      <td>male</td>\n",
       "      <td>angry</td>\n",
       "    </tr>\n",
       "  </tbody>\n",
       "</table>\n",
       "</div>"
      ],
      "text/plain": [
       "                                                path     sex emotion\n",
       "0  dataset/Emotional_Speech_Dataset/Angry/Angry-0...  female   angry\n",
       "1  dataset/Emotional_Speech_Dataset/Angry/Angry-0...  female   angry\n",
       "2  dataset/Emotional_Speech_Dataset/Angry/Angry-3...    male   angry\n",
       "3  dataset/Emotional_Speech_Dataset/Angry/Angry-0...    male   angry\n",
       "4  dataset/Emotional_Speech_Dataset/Angry/Angry-1...    male   angry"
      ]
     },
     "execution_count": 7,
     "metadata": {},
     "output_type": "execute_result"
    }
   ],
   "source": [
    "#create datafream \n",
    "emotion_dir_list = ['Angry', 'Happy', 'Neutral', 'Sad']\n",
    "emotion_dic = {\n",
    "    'Angry': 'angry',\n",
    "    'Happy': 'happy',\n",
    "    'Neutral': 'neutral',\n",
    "    'Sad': 'sad',\n",
    "}\n",
    "\n",
    "path_list = []\n",
    "gender_list = []\n",
    "emotion_list = []\n",
    "\n",
    "for emotion_dir in emotion_dir_list:\n",
    "    audio_files = os.listdir(os.path.join(dataset_dir, emotion_dir))\n",
    "    for audio_file in audio_files:\n",
    "        part = audio_file.split('.')[0]\n",
    "        parts = part.split('-')\n",
    "        if len(parts) >= 3:  # Check if the split parts contain enough information\n",
    "            key = parts[0]\n",
    "            gender = parts[-1][0] if len(parts[-1]) > 0 and parts[-1][0] in ['f', 'm'] else ''  # Extract gender from the audio file name\n",
    "            if key in emotion_dic:\n",
    "                path_list.append(os.path.join(dataset_dir, emotion_dir, audio_file))\n",
    "                gender_list.append('female' if gender == 'f' else 'male')\n",
    "                emotion_list.append(emotion_dic[key])\n",
    "\n",
    "dataset_df = pd.concat([\n",
    "    pd.DataFrame(path_list, columns=['path']),\n",
    "    pd.DataFrame(gender_list, columns=['sex']),\n",
    "    pd.DataFrame(emotion_list, columns=['emotion'])\n",
    "], axis=1)\n",
    "\n",
    "dataset_df.head()"
   ]
  },
  {
   "cell_type": "markdown",
   "id": "836cc690",
   "metadata": {},
   "source": [
    "# Create the datafream"
   ]
  },
  {
   "cell_type": "code",
   "execution_count": 8,
   "id": "209308e5",
   "metadata": {},
   "outputs": [
    {
     "data": {
      "text/html": [
       "<div>\n",
       "<style scoped>\n",
       "    .dataframe tbody tr th:only-of-type {\n",
       "        vertical-align: middle;\n",
       "    }\n",
       "\n",
       "    .dataframe tbody tr th {\n",
       "        vertical-align: top;\n",
       "    }\n",
       "\n",
       "    .dataframe thead th {\n",
       "        text-align: right;\n",
       "    }\n",
       "</style>\n",
       "<table border=\"1\" class=\"dataframe\">\n",
       "  <thead>\n",
       "    <tr style=\"text-align: right;\">\n",
       "      <th></th>\n",
       "      <th>path</th>\n",
       "      <th>sex</th>\n",
       "      <th>emotion</th>\n",
       "    </tr>\n",
       "  </thead>\n",
       "  <tbody>\n",
       "    <tr>\n",
       "      <th>0</th>\n",
       "      <td>dataset/RAVDESS/audio_speech_actors_01-24/Acto...</td>\n",
       "      <td>female</td>\n",
       "      <td>angry</td>\n",
       "    </tr>\n",
       "    <tr>\n",
       "      <th>1</th>\n",
       "      <td>dataset/RAVDESS/audio_speech_actors_01-24/Acto...</td>\n",
       "      <td>female</td>\n",
       "      <td>angry</td>\n",
       "    </tr>\n",
       "    <tr>\n",
       "      <th>2</th>\n",
       "      <td>dataset/RAVDESS/audio_speech_actors_01-24/Acto...</td>\n",
       "      <td>female</td>\n",
       "      <td>sad</td>\n",
       "    </tr>\n",
       "    <tr>\n",
       "      <th>3</th>\n",
       "      <td>dataset/RAVDESS/audio_speech_actors_01-24/Acto...</td>\n",
       "      <td>female</td>\n",
       "      <td>sad</td>\n",
       "    </tr>\n",
       "    <tr>\n",
       "      <th>4</th>\n",
       "      <td>dataset/RAVDESS/audio_speech_actors_01-24/Acto...</td>\n",
       "      <td>female</td>\n",
       "      <td>happy</td>\n",
       "    </tr>\n",
       "  </tbody>\n",
       "</table>\n",
       "</div>"
      ],
      "text/plain": [
       "                                                path     sex emotion\n",
       "0  dataset/RAVDESS/audio_speech_actors_01-24/Acto...  female   angry\n",
       "1  dataset/RAVDESS/audio_speech_actors_01-24/Acto...  female   angry\n",
       "2  dataset/RAVDESS/audio_speech_actors_01-24/Acto...  female     sad\n",
       "3  dataset/RAVDESS/audio_speech_actors_01-24/Acto...  female     sad\n",
       "4  dataset/RAVDESS/audio_speech_actors_01-24/Acto...  female   happy"
      ]
     },
     "execution_count": 8,
     "metadata": {},
     "output_type": "execute_result"
    }
   ],
   "source": [
    "df = pd.concat([\n",
    "    ravdess_df, \n",
    "    crema_df, \n",
    "    tess_df, \n",
    "    savee_df,\n",
    "    dataset_df\n",
    "], axis=0)\n",
    "df.head()"
   ]
  },
  {
   "cell_type": "markdown",
   "id": "44ccce25",
   "metadata": {},
   "source": [
    "# The 4 EDA steps"
   ]
  },
  {
   "cell_type": "code",
   "execution_count": 9,
   "id": "36bd655e",
   "metadata": {},
   "outputs": [
    {
     "data": {
      "text/plain": [
       "(3020, 3)"
      ]
     },
     "execution_count": 9,
     "metadata": {},
     "output_type": "execute_result"
    }
   ],
   "source": [
    "df.shape"
   ]
  },
  {
   "cell_type": "code",
   "execution_count": 10,
   "id": "cdd24094",
   "metadata": {},
   "outputs": [
    {
     "name": "stdout",
     "output_type": "stream",
     "text": [
      "<class 'pandas.core.frame.DataFrame'>\n",
      "Int64Index: 3020 entries, 0 to 174\n",
      "Data columns (total 3 columns):\n",
      " #   Column   Non-Null Count  Dtype \n",
      "---  ------   --------------  ----- \n",
      " 0   path     3020 non-null   object\n",
      " 1   sex      3020 non-null   object\n",
      " 2   emotion  3020 non-null   object\n",
      "dtypes: object(3)\n",
      "memory usage: 94.4+ KB\n"
     ]
    }
   ],
   "source": [
    "df.info()"
   ]
  },
  {
   "cell_type": "code",
   "execution_count": 11,
   "id": "c8d9a989",
   "metadata": {},
   "outputs": [
    {
     "data": {
      "text/plain": [
       "<bound method NDFrame.describe of                                                   path     sex emotion\n",
       "0    dataset/RAVDESS/audio_speech_actors_01-24/Acto...  female   angry\n",
       "1    dataset/RAVDESS/audio_speech_actors_01-24/Acto...  female   angry\n",
       "2    dataset/RAVDESS/audio_speech_actors_01-24/Acto...  female     sad\n",
       "3    dataset/RAVDESS/audio_speech_actors_01-24/Acto...  female     sad\n",
       "4    dataset/RAVDESS/audio_speech_actors_01-24/Acto...  female   happy\n",
       "..                                                 ...     ...     ...\n",
       "170  dataset/Emotional_Speech_Dataset/Sad/Sad-04-04...    male     sad\n",
       "171  dataset/Emotional_Speech_Dataset/Sad/Sad-08-04...    male     sad\n",
       "172  dataset/Emotional_Speech_Dataset/Sad/Sad-16-04...    male     sad\n",
       "173  dataset/Emotional_Speech_Dataset/Sad/Sad-17-04...  female     sad\n",
       "174  dataset/Emotional_Speech_Dataset/Sad/Sad-16-04...  female     sad\n",
       "\n",
       "[3020 rows x 3 columns]>"
      ]
     },
     "execution_count": 11,
     "metadata": {},
     "output_type": "execute_result"
    }
   ],
   "source": [
    "df.describe"
   ]
  },
  {
   "cell_type": "code",
   "execution_count": 12,
   "id": "a1d81a81",
   "metadata": {},
   "outputs": [
    {
     "data": {
      "text/plain": [
       "path       0\n",
       "sex        0\n",
       "emotion    0\n",
       "dtype: int64"
      ]
     },
     "execution_count": 12,
     "metadata": {},
     "output_type": "execute_result"
    }
   ],
   "source": [
    "# check missing values in each column\n",
    "df.isna().sum() "
   ]
  },
  {
   "cell_type": "markdown",
   "id": "0c8d6df3",
   "metadata": {},
   "source": [
    "----"
   ]
  },
  {
   "cell_type": "code",
   "execution_count": 13,
   "id": "662e9fd4",
   "metadata": {},
   "outputs": [],
   "source": [
    "# !pip install librosa\n",
    "import librosa\n",
    "import matplotlib.pyplot as plt\n",
    "plt.style.use('ggplot')"
   ]
  },
  {
   "cell_type": "code",
   "execution_count": 14,
   "id": "e84274a8",
   "metadata": {},
   "outputs": [
    {
     "data": {
      "image/png": "[encoded data removed]",
      "text/plain": [
       "<Figure size 600x300 with 1 Axes>"
      ]
     },
     "metadata": {},
     "output_type": "display_data"
    }
   ],
   "source": [
    "def plot_distribution(df): \n",
    "    countTable = df.groupby(['emotion', 'sex']).count()\n",
    "    pivotTable = countTable.pivot_table(index='emotion', columns='sex', values='path')\n",
    "    pivotTable.plot(kind='bar', figsize=(6, 3), color=['pink', 'blue'])\n",
    "    plt.title('Emotion and Gender Distribution')\n",
    "    plt.xlabel('Emotion')\n",
    "    plt.ylabel('Count')\n",
    "    plt.show()\n",
    "plot_distribution(df)"
   ]
  },
  {
   "cell_type": "code",
   "execution_count": 15,
   "id": "eb2d6c6b",
   "metadata": {},
   "outputs": [
    {
     "name": "stdout",
     "output_type": "stream",
     "text": [
      "angry      812\n",
      "sad        781\n",
      "happy      774\n",
      "neutral    653\n",
      "Name: emotion, dtype: int64\n"
     ]
    }
   ],
   "source": [
    "# Count the number of occurrences of each emotion\n",
    "emotion_counts = df['emotion'].value_counts()\n",
    "# Print the emotion counts\n",
    "print(emotion_counts)"
   ]
  },
  {
   "cell_type": "code",
   "execution_count": 16,
   "id": "c908771b",
   "metadata": {},
   "outputs": [
    {
     "data": {
      "image/png": "[encoded data removed]",
      "text/plain": [
       "<Figure size 1200x500 with 1 Axes>"
      ]
     },
     "metadata": {},
     "output_type": "display_data"
    }
   ],
   "source": [
    "import seaborn as sns\n",
    "plt.figure(figsize=(12, 5))\n",
    "plt.title('Count of Emotions', size=16)\n",
    "sns.countplot(data=df, x='emotion')\n",
    "plt.ylabel('Count', size=14)\n",
    "plt.xlabel('Emotions', size=14)\n",
    "plt.xticks(rotation=45)\n",
    "plt.show()"
   ]
  },
  {
   "cell_type": "markdown",
   "id": "36db9c2e",
   "metadata": {},
   "source": [
    "# pre-processing"
   ]
  },
  {
   "cell_type": "code",
   "execution_count": 17,
   "id": "fe837fec",
   "metadata": {},
   "outputs": [],
   "source": [
    "emotion_mapping = {\n",
    "    'angry': 'negative',\n",
    "    'sad': 'negative',\n",
    "    'happy': 'positive',\n",
    "    'neutral': 'positive'\n",
    "}\n",
    "# Replace values in the \"emotions\" column\n",
    "df['emotion'] = df['emotion'].map(emotion_mapping)"
   ]
  },
  {
   "cell_type": "code",
   "execution_count": 18,
   "id": "361bf300",
   "metadata": {},
   "outputs": [
    {
     "name": "stdout",
     "output_type": "stream",
     "text": [
      "negative    1593\n",
      "positive    1427\n",
      "Name: emotion, dtype: int64\n"
     ]
    }
   ],
   "source": [
    "# Count the number of occurrences of each emotion\n",
    "emotion_counts = df['emotion'].value_counts()\n",
    "# Print the emotion counts\n",
    "print(emotion_counts)"
   ]
  },
  {
   "cell_type": "code",
   "execution_count": 19,
   "id": "98ef1f22",
   "metadata": {},
   "outputs": [
    {
     "data": {
      "image/png": "[encoded data removed]",
      "text/plain": [
       "<Figure size 1200x500 with 1 Axes>"
      ]
     },
     "metadata": {},
     "output_type": "display_data"
    }
   ],
   "source": [
    "import seaborn as sns\n",
    "plt.figure(figsize=(12, 5))\n",
    "plt.title('Count of Emotions', size=16)\n",
    "sns.countplot(data=df, x='emotion')\n",
    "plt.ylabel('Count', size=14)\n",
    "plt.xlabel('Emotions', size=14)\n",
    "plt.xticks(rotation=45)\n",
    "plt.show()"
   ]
  },
  {
   "cell_type": "code",
   "execution_count": 20,
   "id": "6ddf0de3",
   "metadata": {},
   "outputs": [
    {
     "data": {
      "text/html": [
       "<div>\n",
       "<style scoped>\n",
       "    .dataframe tbody tr th:only-of-type {\n",
       "        vertical-align: middle;\n",
       "    }\n",
       "\n",
       "    .dataframe tbody tr th {\n",
       "        vertical-align: top;\n",
       "    }\n",
       "\n",
       "    .dataframe thead th {\n",
       "        text-align: right;\n",
       "    }\n",
       "</style>\n",
       "<table border=\"1\" class=\"dataframe\">\n",
       "  <thead>\n",
       "    <tr style=\"text-align: right;\">\n",
       "      <th></th>\n",
       "      <th>path</th>\n",
       "      <th>emotion</th>\n",
       "    </tr>\n",
       "  </thead>\n",
       "  <tbody>\n",
       "    <tr>\n",
       "      <th>0</th>\n",
       "      <td>dataset/RAVDESS/audio_speech_actors_01-24/Acto...</td>\n",
       "      <td>negative</td>\n",
       "    </tr>\n",
       "    <tr>\n",
       "      <th>1</th>\n",
       "      <td>dataset/RAVDESS/audio_speech_actors_01-24/Acto...</td>\n",
       "      <td>negative</td>\n",
       "    </tr>\n",
       "    <tr>\n",
       "      <th>2</th>\n",
       "      <td>dataset/RAVDESS/audio_speech_actors_01-24/Acto...</td>\n",
       "      <td>negative</td>\n",
       "    </tr>\n",
       "    <tr>\n",
       "      <th>3</th>\n",
       "      <td>dataset/RAVDESS/audio_speech_actors_01-24/Acto...</td>\n",
       "      <td>negative</td>\n",
       "    </tr>\n",
       "    <tr>\n",
       "      <th>4</th>\n",
       "      <td>dataset/RAVDESS/audio_speech_actors_01-24/Acto...</td>\n",
       "      <td>positive</td>\n",
       "    </tr>\n",
       "  </tbody>\n",
       "</table>\n",
       "</div>"
      ],
      "text/plain": [
       "                                                path   emotion\n",
       "0  dataset/RAVDESS/audio_speech_actors_01-24/Acto...  negative\n",
       "1  dataset/RAVDESS/audio_speech_actors_01-24/Acto...  negative\n",
       "2  dataset/RAVDESS/audio_speech_actors_01-24/Acto...  negative\n",
       "3  dataset/RAVDESS/audio_speech_actors_01-24/Acto...  negative\n",
       "4  dataset/RAVDESS/audio_speech_actors_01-24/Acto...  positive"
      ]
     },
     "execution_count": 20,
     "metadata": {},
     "output_type": "execute_result"
    }
   ],
   "source": [
    "df.drop('sex', axis=1, inplace=True)\n",
    "df.head()"
   ]
  },
  {
   "cell_type": "code",
   "execution_count": 21,
   "id": "77ebc2e5",
   "metadata": {},
   "outputs": [
    {
     "name": "stderr",
     "output_type": "stream",
     "text": [
      "/Users/mac/anaconda3/lib/python3.10/site-packages/pydub/utils.py:170: RuntimeWarning: Couldn't find ffmpeg or avconv - defaulting to ffmpeg, but may not work\n",
      "  warn(\"Couldn't find ffmpeg or avconv - defaulting to ffmpeg, but may not work\", RuntimeWarning)\n"
     ]
    }
   ],
   "source": [
    "from pydub import AudioSegment, effects\n",
    "def preprocess_audio(path):\n",
    "    _, sr = librosa.load(path)\n",
    "    raw_audio = AudioSegment.from_file(path)\n",
    "    samples = np.array(raw_audio.get_array_of_samples(), dtype='float32')\n",
    "   # trimmed, _ = librosa.effects.trim(samples, top_db=25)\n",
    "    trimmed, _ = librosa.effects.trim(samples, top_db=50)\n",
    " #   padded = np.pad(trimmed, (0, 180000-len(trimmed)), 'constant')\n",
    "    padded = np.pad(trimmed, (0, 300000-len(trimmed)), 'constant')\n",
    "    return padded, sr"
   ]
  },
  {
   "cell_type": "code",
   "execution_count": 22,
   "id": "1151231f",
   "metadata": {},
   "outputs": [],
   "source": [
    "emotion_dic = {\n",
    "    'positive' : 0,\n",
    "    'negative'   : 1\n",
    "}\n",
    "\n",
    "def encode(label):\n",
    "    return emotion_dic.get(label)"
   ]
  },
  {
   "cell_type": "code",
   "execution_count": 23,
   "id": "017d4d20",
   "metadata": {},
   "outputs": [
    {
     "name": "stderr",
     "output_type": "stream",
     "text": [
      "/Users/mac/anaconda3/lib/python3.10/site-packages/pydub/utils.py:198: RuntimeWarning: Couldn't find ffprobe or avprobe - defaulting to ffprobe, but may not work\n",
      "  warn(\"Couldn't find ffprobe or avprobe - defaulting to ffprobe, but may not work\", RuntimeWarning)\n"
     ]
    },
    {
     "name": "stdout",
     "output_type": "stream",
     "text": [
      "Failed for path: dataset/TESS/TESS Toronto emotional speech set data/YAF_angry/YAF_germ_angry.wav\n",
      "Failed for path: dataset/ALL/JE_sa14.wav\n",
      "Failed for path: dataset/ALL/JE_a14.wav\n",
      "Failed for path: dataset/Emotional_Speech_Dataset/Angry/Angry-03-01-f.wav\n"
     ]
    },
    {
     "name": "stderr",
     "output_type": "stream",
     "text": [
      "/var/folders/cc/hrcjmc7j2631f9q1c6_9syfr0000gn/T/ipykernel_81193/1629204816.py:3: UserWarning: PySoundFile failed. Trying audioread instead.\n",
      "  _, sr = librosa.load(path)\n",
      "/Users/mac/anaconda3/lib/python3.10/site-packages/librosa/core/audio.py:184: FutureWarning: librosa.core.audio.__audioread_load\n",
      "\tDeprecated as of librosa version 0.10.0.\n",
      "\tIt will be removed in librosa version 1.0.\n",
      "  y, sr_native = __audioread_load(path, offset, duration, dtype)\n",
      "/Users/mac/anaconda3/lib/python3.10/site-packages/pydub/utils.py:198: RuntimeWarning: Couldn't find ffprobe or avprobe - defaulting to ffprobe, but may not work\n",
      "  warn(\"Couldn't find ffprobe or avprobe - defaulting to ffprobe, but may not work\", RuntimeWarning)\n"
     ]
    },
    {
     "name": "stdout",
     "output_type": "stream",
     "text": [
      "Failed for path: dataset/Emotional_Speech_Dataset/Angry/Angry-37-01.wav\n",
      "Failed for path: dataset/Emotional_Speech_Dataset/Angry/Angry-09-01-f.wav\n",
      "Failed for path: dataset/Emotional_Speech_Dataset/Angry/Angry-08-01-f.wav\n",
      "Failed for path: dataset/Emotional_Speech_Dataset/Angry/Angry-29-01.wav\n",
      "Failed for path: dataset/Emotional_Speech_Dataset/Angry/Angry-35-01.wav\n",
      "Failed for path: dataset/Emotional_Speech_Dataset/Angry/Angry-20-01-f.wav\n",
      "Failed for path: dataset/Emotional_Speech_Dataset/Angry/Angry-21-01-f.wav\n",
      "Failed for path: dataset/Emotional_Speech_Dataset/Angry/Angry-23-01.wav\n",
      "Failed for path: dataset/Emotional_Speech_Dataset/Angry/Angry-31-01.wav\n",
      "Failed for path: dataset/Emotional_Speech_Dataset/Angry/Angry-19-01.wav\n",
      "Failed for path: dataset/Emotional_Speech_Dataset/Angry/Angry-15-01.wav\n",
      "Failed for path: dataset/Emotional_Speech_Dataset/Angry/Angry-27-01-f.wav\n",
      "Failed for path: dataset/Emotional_Speech_Dataset/Angry/Angry-19-01-f.wav\n",
      "Failed for path: dataset/Emotional_Speech_Dataset/Angry/Angry-18-01-f.wav\n",
      "Failed for path: dataset/Emotional_Speech_Dataset/Angry/Angry-04-01-f.wav\n",
      "Failed for path: dataset/Emotional_Speech_Dataset/Angry/Angry-05-01-f.wav\n",
      "Failed for path: dataset/Emotional_Speech_Dataset/Angry/Angry-17-01.wav\n",
      "Failed for path: dataset/Emotional_Speech_Dataset/Angry/Angry-23-01-f.wav\n",
      "Failed for path: dataset/Emotional_Speech_Dataset/Angry/Angry-22-01-f.wav\n",
      "Failed for path: dataset/Emotional_Speech_Dataset/Angry/Angry-36-01.wav\n",
      "Failed for path: dataset/Emotional_Speech_Dataset/Angry/Angry-17-01-f.wav\n",
      "Failed for path: dataset/Emotional_Speech_Dataset/Angry/Angry-16-01-f.wav\n",
      "Failed for path: dataset/Emotional_Speech_Dataset/Angry/Angry-38-01-.wav\n",
      "Failed for path: dataset/Emotional_Speech_Dataset/Angry/Angry-34-01.wav\n",
      "Failed for path: dataset/Emotional_Speech_Dataset/Angry/Angry-26-01.wav\n",
      "Failed for path: dataset/Emotional_Speech_Dataset/Angry/Angry-18-01.wav\n"
     ]
    },
    {
     "name": "stderr",
     "output_type": "stream",
     "text": [
      "/var/folders/cc/hrcjmc7j2631f9q1c6_9syfr0000gn/T/ipykernel_81193/1629204816.py:3: UserWarning: PySoundFile failed. Trying audioread instead.\n",
      "  _, sr = librosa.load(path)\n",
      "/Users/mac/anaconda3/lib/python3.10/site-packages/librosa/core/audio.py:184: FutureWarning: librosa.core.audio.__audioread_load\n",
      "\tDeprecated as of librosa version 0.10.0.\n",
      "\tIt will be removed in librosa version 1.0.\n",
      "  y, sr_native = __audioread_load(path, offset, duration, dtype)\n",
      "/Users/mac/anaconda3/lib/python3.10/site-packages/pydub/utils.py:198: RuntimeWarning: Couldn't find ffprobe or avprobe - defaulting to ffprobe, but may not work\n",
      "  warn(\"Couldn't find ffprobe or avprobe - defaulting to ffprobe, but may not work\", RuntimeWarning)\n"
     ]
    },
    {
     "name": "stdout",
     "output_type": "stream",
     "text": [
      "Failed for path: dataset/Emotional_Speech_Dataset/Angry/Angry-22-01.wav\n",
      "Failed for path: dataset/Emotional_Speech_Dataset/Angry/Angry-30-01.wav\n",
      "Failed for path: dataset/Emotional_Speech_Dataset/Angry/Angry-08-01.wav\n",
      "Failed for path: dataset/Emotional_Speech_Dataset/Angry/Angry-16-01.wav\n",
      "Failed for path: dataset/Emotional_Speech_Dataset/Angry/Angry-32-01.wav\n",
      "Failed for path: dataset/Emotional_Speech_Dataset/Angry/Angry-20-01.wav\n",
      "Failed for path: dataset/Emotional_Speech_Dataset/Angry/Angry-10-01-f.wav\n",
      "Failed for path: dataset/Emotional_Speech_Dataset/Angry/Angry-11-01-f.wav\n",
      "Failed for path: dataset/Emotional_Speech_Dataset/Happy/Happy-03-02.wav\n",
      "Failed for path: dataset/Emotional_Speech_Dataset/Happy/Happy-11-02.wav\n",
      "Failed for path: dataset/Emotional_Speech_Dataset/Happy/Happy-08-02-f.wav\n",
      "Failed for path: dataset/Emotional_Speech_Dataset/Happy/Happy-02-02-f.wav\n",
      "Failed for path: dataset/Emotional_Speech_Dataset/Happy/Happy-03-02-f.wav\n",
      "Failed for path: dataset/Emotional_Speech_Dataset/Happy/Happy-09-02.wav\n",
      "Failed for path: dataset/Emotional_Speech_Dataset/Happy/Happy-04-02-f.wav\n",
      "Failed for path: dataset/Emotional_Speech_Dataset/Happy/Happy-15-02.wav\n",
      "Failed for path: dataset/Emotional_Speech_Dataset/Happy/Happy-19-02.wav\n",
      "Failed for path: dataset/Emotional_Speech_Dataset/Happy/Happy-20-02-.wav\n",
      "Failed for path: dataset/Emotional_Speech_Dataset/Happy/Happy-01-02-f.wav\n",
      "Failed for path: dataset/Emotional_Speech_Dataset/Happy/Happy-02-02.wav\n",
      "Failed for path: dataset/Emotional_Speech_Dataset/Happy/Happy-10-02.wav\n",
      "Failed for path: dataset/Emotional_Speech_Dataset/Happy/Happy-20-02.wav\n"
     ]
    },
    {
     "name": "stderr",
     "output_type": "stream",
     "text": [
      "/var/folders/cc/hrcjmc7j2631f9q1c6_9syfr0000gn/T/ipykernel_81193/1629204816.py:3: UserWarning: PySoundFile failed. Trying audioread instead.\n",
      "  _, sr = librosa.load(path)\n",
      "/Users/mac/anaconda3/lib/python3.10/site-packages/librosa/core/audio.py:184: FutureWarning: librosa.core.audio.__audioread_load\n",
      "\tDeprecated as of librosa version 0.10.0.\n",
      "\tIt will be removed in librosa version 1.0.\n",
      "  y, sr_native = __audioread_load(path, offset, duration, dtype)\n",
      "/Users/mac/anaconda3/lib/python3.10/site-packages/pydub/utils.py:198: RuntimeWarning: Couldn't find ffprobe or avprobe - defaulting to ffprobe, but may not work\n",
      "  warn(\"Couldn't find ffprobe or avprobe - defaulting to ffprobe, but may not work\", RuntimeWarning)\n",
      "/var/folders/cc/hrcjmc7j2631f9q1c6_9syfr0000gn/T/ipykernel_81193/1629204816.py:3: UserWarning: PySoundFile failed. Trying audioread instead.\n",
      "  _, sr = librosa.load(path)\n",
      "/Users/mac/anaconda3/lib/python3.10/site-packages/librosa/core/audio.py:184: FutureWarning: librosa.core.audio.__audioread_load\n",
      "\tDeprecated as of librosa version 0.10.0.\n",
      "\tIt will be removed in librosa version 1.0.\n",
      "  y, sr_native = __audioread_load(path, offset, duration, dtype)\n",
      "/Users/mac/anaconda3/lib/python3.10/site-packages/pydub/utils.py:198: RuntimeWarning: Couldn't find ffprobe or avprobe - defaulting to ffprobe, but may not work\n",
      "  warn(\"Couldn't find ffprobe or avprobe - defaulting to ffprobe, but may not work\", RuntimeWarning)\n",
      "/var/folders/cc/hrcjmc7j2631f9q1c6_9syfr0000gn/T/ipykernel_81193/1629204816.py:3: UserWarning: PySoundFile failed. Trying audioread instead.\n",
      "  _, sr = librosa.load(path)\n",
      "/Users/mac/anaconda3/lib/python3.10/site-packages/librosa/core/audio.py:184: FutureWarning: librosa.core.audio.__audioread_load\n",
      "\tDeprecated as of librosa version 0.10.0.\n",
      "\tIt will be removed in librosa version 1.0.\n",
      "  y, sr_native = __audioread_load(path, offset, duration, dtype)\n",
      "/Users/mac/anaconda3/lib/python3.10/site-packages/pydub/utils.py:198: RuntimeWarning: Couldn't find ffprobe or avprobe - defaulting to ffprobe, but may not work\n",
      "  warn(\"Couldn't find ffprobe or avprobe - defaulting to ffprobe, but may not work\", RuntimeWarning)\n",
      "/var/folders/cc/hrcjmc7j2631f9q1c6_9syfr0000gn/T/ipykernel_81193/1629204816.py:3: UserWarning: PySoundFile failed. Trying audioread instead.\n",
      "  _, sr = librosa.load(path)\n",
      "/Users/mac/anaconda3/lib/python3.10/site-packages/librosa/core/audio.py:184: FutureWarning: librosa.core.audio.__audioread_load\n",
      "\tDeprecated as of librosa version 0.10.0.\n",
      "\tIt will be removed in librosa version 1.0.\n",
      "  y, sr_native = __audioread_load(path, offset, duration, dtype)\n",
      "/Users/mac/anaconda3/lib/python3.10/site-packages/pydub/utils.py:198: RuntimeWarning: Couldn't find ffprobe or avprobe - defaulting to ffprobe, but may not work\n",
      "  warn(\"Couldn't find ffprobe or avprobe - defaulting to ffprobe, but may not work\", RuntimeWarning)\n",
      "/var/folders/cc/hrcjmc7j2631f9q1c6_9syfr0000gn/T/ipykernel_81193/1629204816.py:3: UserWarning: PySoundFile failed. Trying audioread instead.\n",
      "  _, sr = librosa.load(path)\n",
      "/Users/mac/anaconda3/lib/python3.10/site-packages/librosa/core/audio.py:184: FutureWarning: librosa.core.audio.__audioread_load\n",
      "\tDeprecated as of librosa version 0.10.0.\n",
      "\tIt will be removed in librosa version 1.0.\n",
      "  y, sr_native = __audioread_load(path, offset, duration, dtype)\n",
      "/Users/mac/anaconda3/lib/python3.10/site-packages/pydub/utils.py:198: RuntimeWarning: Couldn't find ffprobe or avprobe - defaulting to ffprobe, but may not work\n",
      "  warn(\"Couldn't find ffprobe or avprobe - defaulting to ffprobe, but may not work\", RuntimeWarning)\n"
     ]
    },
    {
     "name": "stdout",
     "output_type": "stream",
     "text": [
      "Failed for path: dataset/Emotional_Speech_Dataset/Happy/Happy-16-02.wav\n",
      "Failed for path: dataset/Emotional_Speech_Dataset/Happy/Happy-08-02.wav\n",
      "Failed for path: dataset/Emotional_Speech_Dataset/Happy/Happy-06-02-f.wav\n",
      "Failed for path: dataset/Emotional_Speech_Dataset/Happy/Happy-14-02-.wav\n",
      "Failed for path: dataset/Emotional_Speech_Dataset/Happy/Happy-18-02.wav\n",
      "Failed for path: dataset/Emotional_Speech_Dataset/Neutral/Neutral-05-03-f.wav\n",
      "Failed for path: dataset/Emotional_Speech_Dataset/Neutral/Neutral-04-03-f.wav\n",
      "Failed for path: dataset/Emotional_Speech_Dataset/Neutral/Neutral-19-03.wav\n",
      "Failed for path: dataset/Emotional_Speech_Dataset/Neutral/Neutral-07-03.wav\n",
      "Failed for path: dataset/Emotional_Speech_Dataset/Neutral/Neutral-15-03.wav\n",
      "Failed for path: dataset/Emotional_Speech_Dataset/Neutral/Neutral-23-03.wav\n",
      "Failed for path: dataset/Emotional_Speech_Dataset/Neutral/Neutral-26-03-.wav\n",
      "Failed for path: dataset/Emotional_Speech_Dataset/Neutral/Neutral-27-03-.wav\n",
      "Failed for path: dataset/Emotional_Speech_Dataset/Neutral/Neutral-17-03.wav\n",
      "Failed for path: dataset/Emotional_Speech_Dataset/Neutral/Neutral-09-03.wav\n",
      "Failed for path: dataset/Emotional_Speech_Dataset/Neutral/Neutral-21-03.wav\n",
      "Failed for path: dataset/Emotional_Speech_Dataset/Neutral/Neutral-25-03.wav\n",
      "Failed for path: dataset/Emotional_Speech_Dataset/Neutral/Neutral-13-03.wav\n",
      "Failed for path: dataset/Emotional_Speech_Dataset/Neutral/Neutral-03-03-f.wav\n",
      "Failed for path: dataset/Emotional_Speech_Dataset/Neutral/Neutral-11-03.wav\n",
      "Failed for path: dataset/Emotional_Speech_Dataset/Neutral/Neutral-08-03-f.wav\n",
      "Failed for path: dataset/Emotional_Speech_Dataset/Neutral/Neutral-22-03.wav\n",
      "Failed for path: dataset/Emotional_Speech_Dataset/Neutral/Neutral-18-03.wav\n",
      "Failed for path: dataset/Emotional_Speech_Dataset/Neutral/Neutral-14-03.wav\n",
      "Failed for path: dataset/Emotional_Speech_Dataset/Neutral/Neutral-29-03-.wav\n"
     ]
    },
    {
     "name": "stderr",
     "output_type": "stream",
     "text": [
      "/var/folders/cc/hrcjmc7j2631f9q1c6_9syfr0000gn/T/ipykernel_81193/1629204816.py:3: UserWarning: PySoundFile failed. Trying audioread instead.\n",
      "  _, sr = librosa.load(path)\n",
      "/Users/mac/anaconda3/lib/python3.10/site-packages/librosa/core/audio.py:184: FutureWarning: librosa.core.audio.__audioread_load\n",
      "\tDeprecated as of librosa version 0.10.0.\n",
      "\tIt will be removed in librosa version 1.0.\n",
      "  y, sr_native = __audioread_load(path, offset, duration, dtype)\n",
      "/Users/mac/anaconda3/lib/python3.10/site-packages/pydub/utils.py:198: RuntimeWarning: Couldn't find ffprobe or avprobe - defaulting to ffprobe, but may not work\n",
      "  warn(\"Couldn't find ffprobe or avprobe - defaulting to ffprobe, but may not work\", RuntimeWarning)\n"
     ]
    },
    {
     "name": "stdout",
     "output_type": "stream",
     "text": [
      "Failed for path: dataset/Emotional_Speech_Dataset/Neutral/Neutral-20-03.wav\n",
      "Failed for path: dataset/Emotional_Speech_Dataset/Neutral/Neutral-08-03.wav\n",
      "Failed for path: dataset/Emotional_Speech_Dataset/Neutral/Neutral-16-03.wav\n",
      "Failed for path: dataset/Emotional_Speech_Dataset/Neutral/Neutral-04-03.wav\n",
      "Failed for path: dataset/Emotional_Speech_Dataset/Neutral/Neutral-06-03-f.wav\n",
      "Failed for path: dataset/Emotional_Speech_Dataset/Neutral/Neutral-07-03-f.wav\n",
      "Failed for path: dataset/Emotional_Speech_Dataset/Neutral/Neutral-12-03.wav\n",
      "Failed for path: dataset/Emotional_Speech_Dataset/Neutral/Neutral-24-03.wav\n",
      "Failed for path: dataset/Emotional_Speech_Dataset/Neutral/Neutral-10-03.wav\n",
      "Failed for path: dataset/Emotional_Speech_Dataset/Sad/Sad-04-04-f.wav\n",
      "Failed for path: dataset/Emotional_Speech_Dataset/Sad/Sad-05-04-f.wav\n",
      "Failed for path: dataset/Emotional_Speech_Dataset/Sad/Sad-13-04.wav\n",
      "Failed for path: dataset/Emotional_Speech_Dataset/Sad/Sad-13-04-f.wav\n",
      "Failed for path: dataset/Emotional_Speech_Dataset/Sad/Sad-12-04-f.wav\n",
      "Failed for path: dataset/Emotional_Speech_Dataset/Sad/Sad-11-04.wav\n",
      "Failed for path: dataset/Emotional_Speech_Dataset/Sad/Sad-16-04-.wav\n",
      "Failed for path: dataset/Emotional_Speech_Dataset/Sad/Sad-15-04.wav\n",
      "Failed for path: dataset/Emotional_Speech_Dataset/Sad/Sad-15-04-f.wav\n",
      "Failed for path: dataset/Emotional_Speech_Dataset/Sad/Sad-19-04.wav\n"
     ]
    },
    {
     "name": "stderr",
     "output_type": "stream",
     "text": [
      "/var/folders/cc/hrcjmc7j2631f9q1c6_9syfr0000gn/T/ipykernel_81193/1629204816.py:3: UserWarning: PySoundFile failed. Trying audioread instead.\n",
      "  _, sr = librosa.load(path)\n",
      "/Users/mac/anaconda3/lib/python3.10/site-packages/librosa/core/audio.py:184: FutureWarning: librosa.core.audio.__audioread_load\n",
      "\tDeprecated as of librosa version 0.10.0.\n",
      "\tIt will be removed in librosa version 1.0.\n",
      "  y, sr_native = __audioread_load(path, offset, duration, dtype)\n",
      "/Users/mac/anaconda3/lib/python3.10/site-packages/pydub/utils.py:198: RuntimeWarning: Couldn't find ffprobe or avprobe - defaulting to ffprobe, but may not work\n",
      "  warn(\"Couldn't find ffprobe or avprobe - defaulting to ffprobe, but may not work\", RuntimeWarning)\n",
      "/var/folders/cc/hrcjmc7j2631f9q1c6_9syfr0000gn/T/ipykernel_81193/1629204816.py:3: UserWarning: PySoundFile failed. Trying audioread instead.\n",
      "  _, sr = librosa.load(path)\n",
      "/Users/mac/anaconda3/lib/python3.10/site-packages/librosa/core/audio.py:184: FutureWarning: librosa.core.audio.__audioread_load\n",
      "\tDeprecated as of librosa version 0.10.0.\n",
      "\tIt will be removed in librosa version 1.0.\n",
      "  y, sr_native = __audioread_load(path, offset, duration, dtype)\n",
      "/Users/mac/anaconda3/lib/python3.10/site-packages/pydub/utils.py:198: RuntimeWarning: Couldn't find ffprobe or avprobe - defaulting to ffprobe, but may not work\n",
      "  warn(\"Couldn't find ffprobe or avprobe - defaulting to ffprobe, but may not work\", RuntimeWarning)\n",
      "/var/folders/cc/hrcjmc7j2631f9q1c6_9syfr0000gn/T/ipykernel_81193/1629204816.py:3: UserWarning: PySoundFile failed. Trying audioread instead.\n",
      "  _, sr = librosa.load(path)\n",
      "/Users/mac/anaconda3/lib/python3.10/site-packages/librosa/core/audio.py:184: FutureWarning: librosa.core.audio.__audioread_load\n",
      "\tDeprecated as of librosa version 0.10.0.\n",
      "\tIt will be removed in librosa version 1.0.\n",
      "  y, sr_native = __audioread_load(path, offset, duration, dtype)\n",
      "/Users/mac/anaconda3/lib/python3.10/site-packages/pydub/utils.py:198: RuntimeWarning: Couldn't find ffprobe or avprobe - defaulting to ffprobe, but may not work\n",
      "  warn(\"Couldn't find ffprobe or avprobe - defaulting to ffprobe, but may not work\", RuntimeWarning)\n",
      "/var/folders/cc/hrcjmc7j2631f9q1c6_9syfr0000gn/T/ipykernel_81193/1629204816.py:3: UserWarning: PySoundFile failed. Trying audioread instead.\n",
      "  _, sr = librosa.load(path)\n",
      "/Users/mac/anaconda3/lib/python3.10/site-packages/librosa/core/audio.py:184: FutureWarning: librosa.core.audio.__audioread_load\n",
      "\tDeprecated as of librosa version 0.10.0.\n",
      "\tIt will be removed in librosa version 1.0.\n",
      "  y, sr_native = __audioread_load(path, offset, duration, dtype)\n",
      "/Users/mac/anaconda3/lib/python3.10/site-packages/pydub/utils.py:198: RuntimeWarning: Couldn't find ffprobe or avprobe - defaulting to ffprobe, but may not work\n",
      "  warn(\"Couldn't find ffprobe or avprobe - defaulting to ffprobe, but may not work\", RuntimeWarning)\n"
     ]
    },
    {
     "name": "stdout",
     "output_type": "stream",
     "text": [
      "Failed for path: dataset/Emotional_Speech_Dataset/Sad/Sad-07-04.wav\n",
      "Failed for path: dataset/Emotional_Speech_Dataset/Sad/Sad-02-04-f.wav\n",
      "Failed for path: dataset/Emotional_Speech_Dataset/Sad/Sad-05-04.wav\n",
      "Failed for path: dataset/Emotional_Speech_Dataset/Sad/Sad-09-04-f.wav\n",
      "Failed for path: dataset/Emotional_Speech_Dataset/Sad/Sad-08-04-f.wav\n",
      "Failed for path: dataset/Emotional_Speech_Dataset/Sad/Sad-17-04.wav\n",
      "Failed for path: dataset/Emotional_Speech_Dataset/Sad/Sad-09-04.wav\n",
      "Failed for path: dataset/Emotional_Speech_Dataset/Sad/Sad-21-04.wav\n",
      "Failed for path: dataset/Emotional_Speech_Dataset/Sad/Sad-12-04.wav\n",
      "Failed for path: dataset/Emotional_Speech_Dataset/Sad/Sad-10-04-f.wav\n",
      "Failed for path: dataset/Emotional_Speech_Dataset/Sad/Sad-11-04-f.wav\n",
      "Failed for path: dataset/Emotional_Speech_Dataset/Sad/Sad-02-04.wav\n",
      "Failed for path: dataset/Emotional_Speech_Dataset/Sad/Sad-10-04.wav\n",
      "Failed for path: dataset/Emotional_Speech_Dataset/Sad/Sad-06-04-f.wav\n",
      "Failed for path: dataset/Emotional_Speech_Dataset/Sad/Sad-01-04-f.wav\n",
      "Failed for path: dataset/Emotional_Speech_Dataset/Sad/Sad-14-04.wav\n",
      "Failed for path: dataset/Emotional_Speech_Dataset/Sad/Sad-06-04.wav\n",
      "Failed for path: dataset/Emotional_Speech_Dataset/Sad/Sad-18-04.wav\n",
      "Failed for path: dataset/Emotional_Speech_Dataset/Sad/Sad-20-04.wav\n",
      "Failed for path: dataset/Emotional_Speech_Dataset/Sad/Sad-08-04.wav\n",
      "Failed for path: dataset/Emotional_Speech_Dataset/Sad/Sad-16-04.wav\n",
      "Failed for path: dataset/Emotional_Speech_Dataset/Sad/Sad-17-04-f.wav\n",
      "Failed for path: dataset/Emotional_Speech_Dataset/Sad/Sad-16-04-f.wav\n"
     ]
    },
    {
     "name": "stderr",
     "output_type": "stream",
     "text": [
      "/var/folders/cc/hrcjmc7j2631f9q1c6_9syfr0000gn/T/ipykernel_81193/1629204816.py:3: UserWarning: PySoundFile failed. Trying audioread instead.\n",
      "  _, sr = librosa.load(path)\n",
      "/Users/mac/anaconda3/lib/python3.10/site-packages/librosa/core/audio.py:184: FutureWarning: librosa.core.audio.__audioread_load\n",
      "\tDeprecated as of librosa version 0.10.0.\n",
      "\tIt will be removed in librosa version 1.0.\n",
      "  y, sr_native = __audioread_load(path, offset, duration, dtype)\n",
      "/Users/mac/anaconda3/lib/python3.10/site-packages/pydub/utils.py:198: RuntimeWarning: Couldn't find ffprobe or avprobe - defaulting to ffprobe, but may not work\n",
      "  warn(\"Couldn't find ffprobe or avprobe - defaulting to ffprobe, but may not work\", RuntimeWarning)\n",
      "/var/folders/cc/hrcjmc7j2631f9q1c6_9syfr0000gn/T/ipykernel_81193/1629204816.py:3: UserWarning: PySoundFile failed. Trying audioread instead.\n",
      "  _, sr = librosa.load(path)\n",
      "/Users/mac/anaconda3/lib/python3.10/site-packages/librosa/core/audio.py:184: FutureWarning: librosa.core.audio.__audioread_load\n",
      "\tDeprecated as of librosa version 0.10.0.\n",
      "\tIt will be removed in librosa version 1.0.\n",
      "  y, sr_native = __audioread_load(path, offset, duration, dtype)\n",
      "/Users/mac/anaconda3/lib/python3.10/site-packages/pydub/utils.py:198: RuntimeWarning: Couldn't find ffprobe or avprobe - defaulting to ffprobe, but may not work\n",
      "  warn(\"Couldn't find ffprobe or avprobe - defaulting to ffprobe, but may not work\", RuntimeWarning)\n"
     ]
    }
   ],
   "source": [
    "# pip install --upgrade librosa\n",
    "zcr_list = []\n",
    "rms_list = []\n",
    "mfccs_list = []\n",
    "emotion_list = []\n",
    "\n",
    "FRAME_LENGTH = 2048\n",
    "HOP_LENGTH = 512\n",
    "\n",
    "for row in df.itertuples(index=False):\n",
    "    try: \n",
    "        y, sr = preprocess_audio(row.path)\n",
    "\n",
    "        zcr = librosa.feature.zero_crossing_rate(y, frame_length=FRAME_LENGTH, hop_length=HOP_LENGTH)\n",
    "        rms = librosa.feature.rms(y=y, frame_length=FRAME_LENGTH, hop_length=HOP_LENGTH)\n",
    "        mfccs = librosa.feature.mfcc(y=y, sr=sr, n_mfcc=13, hop_length=HOP_LENGTH)\n",
    "        zcr_list.append(zcr)\n",
    "        rms_list.append(rms)\n",
    "        mfccs_list.append(mfccs)\n",
    "\n",
    "        emotion_list.append(encode(row.emotion))\n",
    "    except:\n",
    "        print(f\"Failed for path: {row.path}\")"
   ]
  },
  {
   "cell_type": "code",
   "execution_count": 24,
   "id": "205208e3",
   "metadata": {},
   "outputs": [],
   "source": [
    "X = np.concatenate((\n",
    "    np.swapaxes(zcr_list, 1, 2), \n",
    "    np.swapaxes(rms_list, 1, 2), \n",
    "    np.swapaxes(mfccs_list, 1, 2)), \n",
    "    axis=2\n",
    ")\n",
    "X = X.astype('float32')\n",
    "y = np.asarray(emotion_list)\n",
    "y = np.expand_dims(y, axis=1).astype('int8')"
   ]
  },
  {
   "cell_type": "code",
   "execution_count": 28,
   "id": "98fb6ecc",
   "metadata": {},
   "outputs": [],
   "source": [
    "# !pip install tensorflow\n",
    "from sklearn.model_selection import train_test_split\n",
    "from tensorflow.keras.utils import to_categorical\n",
    "X_train, X_to_split, y_train, y_to_split = train_test_split(X, y, test_size=0.15, random_state=1)\n",
    "X_val, X_test, y_val, y_test = train_test_split(X_to_split, y_to_split, test_size=0.3, random_state=1)\n",
    "y_train_class = to_categorical(y_train, 2)\n",
    "y_val_class = to_categorical(y_val, 2)"
   ]
  },
  {
   "cell_type": "code",
   "execution_count": 29,
   "id": "2f580d49",
   "metadata": {},
   "outputs": [
    {
     "name": "stdout",
     "output_type": "stream",
     "text": [
      "Model: \"sequential_1\"\n",
      "_________________________________________________________________\n",
      " Layer (type)                Output Shape              Param #   \n",
      "=================================================================\n",
      " lstm_2 (LSTM)               (None, 586, 128)          73728     \n",
      "                                                                 \n",
      " lstm_3 (LSTM)               (None, 128)               131584    \n",
      "                                                                 \n",
      " dense_1 (Dense)             (None, 2)                 258       \n",
      "                                                                 \n",
      "=================================================================\n",
      "Total params: 205570 (803.01 KB)\n",
      "Trainable params: 205570 (803.01 KB)\n",
      "Non-trainable params: 0 (0.00 Byte)\n",
      "_________________________________________________________________\n",
      "None\n"
     ]
    }
   ],
   "source": [
    "from keras.models import Sequential\n",
    "from keras import layers, optimizers, callbacks\n",
    "MODEL = Sequential()\n",
    "MODEL.add(layers.LSTM(128, return_sequences=True, input_shape=(X.shape[1:3])))\n",
    "MODEL.add(layers.LSTM(128))\n",
    "MODEL.add(layers.Dense(2, activation='softmax'))\n",
    "print(MODEL.summary())"
   ]
  },
  {
   "cell_type": "code",
   "execution_count": 30,
   "id": "e28313be",
   "metadata": {},
   "outputs": [
    {
     "name": "stdout",
     "output_type": "stream",
     "text": [
      "Epoch 1/100\n",
      "78/78 [==============================] - 38s 471ms/step - loss: 0.6893 - categorical_accuracy: 0.5740 - val_loss: 0.8639 - val_categorical_accuracy: 0.4787\n",
      "Epoch 2/100\n",
      "78/78 [==============================] - 37s 471ms/step - loss: 0.6404 - categorical_accuracy: 0.6475 - val_loss: 0.6508 - val_categorical_accuracy: 0.6295\n",
      "Epoch 3/100\n",
      "78/78 [==============================] - 36s 464ms/step - loss: 0.6135 - categorical_accuracy: 0.6799 - val_loss: 0.6838 - val_categorical_accuracy: 0.6328\n",
      "Epoch 4/100\n",
      "78/78 [==============================] - 37s 468ms/step - loss: 0.5749 - categorical_accuracy: 0.7112 - val_loss: 0.6572 - val_categorical_accuracy: 0.6689\n",
      "Epoch 5/100\n",
      "78/78 [==============================] - 37s 480ms/step - loss: 0.5658 - categorical_accuracy: 0.7258 - val_loss: 0.5727 - val_categorical_accuracy: 0.6656\n",
      "Epoch 6/100\n",
      "78/78 [==============================] - 37s 473ms/step - loss: 0.5501 - categorical_accuracy: 0.7359 - val_loss: 0.6428 - val_categorical_accuracy: 0.6590\n",
      "Epoch 7/100\n",
      "78/78 [==============================] - 37s 474ms/step - loss: 0.5392 - categorical_accuracy: 0.7351 - val_loss: 0.6025 - val_categorical_accuracy: 0.6492\n",
      "Epoch 8/100\n",
      "78/78 [==============================] - 37s 468ms/step - loss: 0.5133 - categorical_accuracy: 0.7631 - val_loss: 0.6085 - val_categorical_accuracy: 0.6820\n",
      "Epoch 9/100\n",
      "78/78 [==============================] - 37s 468ms/step - loss: 0.5064 - categorical_accuracy: 0.7509 - val_loss: 0.4910 - val_categorical_accuracy: 0.7443\n",
      "Epoch 10/100\n",
      "78/78 [==============================] - 36s 468ms/step - loss: 0.4989 - categorical_accuracy: 0.7631 - val_loss: 0.7590 - val_categorical_accuracy: 0.6656\n",
      "Epoch 11/100\n",
      "78/78 [==============================] - 36s 467ms/step - loss: 0.4626 - categorical_accuracy: 0.7817 - val_loss: 0.4803 - val_categorical_accuracy: 0.7672\n",
      "Epoch 12/100\n",
      "78/78 [==============================] - 36s 467ms/step - loss: 0.4445 - categorical_accuracy: 0.7955 - val_loss: 0.5798 - val_categorical_accuracy: 0.7836\n",
      "Epoch 13/100\n",
      "78/78 [==============================] - 36s 466ms/step - loss: 0.4308 - categorical_accuracy: 0.7955 - val_loss: 0.5108 - val_categorical_accuracy: 0.7541\n",
      "Epoch 14/100\n",
      "78/78 [==============================] - 36s 466ms/step - loss: 0.4244 - categorical_accuracy: 0.8183 - val_loss: 0.5201 - val_categorical_accuracy: 0.7541\n",
      "Epoch 15/100\n",
      "78/78 [==============================] - 36s 466ms/step - loss: 0.4374 - categorical_accuracy: 0.8000 - val_loss: 0.4989 - val_categorical_accuracy: 0.7443\n",
      "Epoch 16/100\n",
      "78/78 [==============================] - 36s 467ms/step - loss: 0.4097 - categorical_accuracy: 0.8223 - val_loss: 0.5782 - val_categorical_accuracy: 0.7377\n",
      "Epoch 17/100\n",
      "78/78 [==============================] - 36s 467ms/step - loss: 0.4268 - categorical_accuracy: 0.8065 - val_loss: 0.5045 - val_categorical_accuracy: 0.7738\n",
      "Epoch 18/100\n",
      "78/78 [==============================] - 36s 466ms/step - loss: 0.3849 - categorical_accuracy: 0.8187 - val_loss: 0.4415 - val_categorical_accuracy: 0.7672\n",
      "Epoch 19/100\n",
      "78/78 [==============================] - 37s 470ms/step - loss: 0.3844 - categorical_accuracy: 0.8166 - val_loss: 0.4112 - val_categorical_accuracy: 0.7672\n",
      "Epoch 20/100\n",
      "78/78 [==============================] - 36s 466ms/step - loss: 0.3715 - categorical_accuracy: 0.8361 - val_loss: 0.5726 - val_categorical_accuracy: 0.7475\n",
      "Epoch 21/100\n",
      "78/78 [==============================] - 37s 468ms/step - loss: 0.3672 - categorical_accuracy: 0.8247 - val_loss: 0.5344 - val_categorical_accuracy: 0.7770\n",
      "Epoch 22/100\n",
      "78/78 [==============================] - 36s 466ms/step - loss: 0.3501 - categorical_accuracy: 0.8264 - val_loss: 0.4932 - val_categorical_accuracy: 0.7672\n",
      "Epoch 23/100\n",
      "78/78 [==============================] - 36s 465ms/step - loss: 0.3392 - categorical_accuracy: 0.8377 - val_loss: 0.5146 - val_categorical_accuracy: 0.7246\n",
      "Epoch 24/100\n",
      "78/78 [==============================] - 36s 466ms/step - loss: 0.3536 - categorical_accuracy: 0.8308 - val_loss: 0.7857 - val_categorical_accuracy: 0.5639\n",
      "Epoch 25/100\n",
      "78/78 [==============================] - 36s 466ms/step - loss: 0.3462 - categorical_accuracy: 0.8418 - val_loss: 0.4374 - val_categorical_accuracy: 0.8066\n",
      "Epoch 26/100\n",
      "78/78 [==============================] - 36s 466ms/step - loss: 0.3246 - categorical_accuracy: 0.8588 - val_loss: 0.4344 - val_categorical_accuracy: 0.8066\n",
      "Epoch 27/100\n",
      "78/78 [==============================] - 37s 470ms/step - loss: 0.3258 - categorical_accuracy: 0.8531 - val_loss: 0.4014 - val_categorical_accuracy: 0.8066\n",
      "Epoch 28/100\n",
      "78/78 [==============================] - 36s 466ms/step - loss: 0.3293 - categorical_accuracy: 0.8491 - val_loss: 0.3611 - val_categorical_accuracy: 0.8131\n",
      "Epoch 29/100\n",
      "78/78 [==============================] - 36s 466ms/step - loss: 0.3335 - categorical_accuracy: 0.8495 - val_loss: 0.4242 - val_categorical_accuracy: 0.8164\n",
      "Epoch 30/100\n",
      "78/78 [==============================] - 36s 467ms/step - loss: 0.3217 - categorical_accuracy: 0.8552 - val_loss: 0.5271 - val_categorical_accuracy: 0.7475\n",
      "Epoch 31/100\n",
      "78/78 [==============================] - 36s 465ms/step - loss: 0.3038 - categorical_accuracy: 0.8625 - val_loss: 0.3978 - val_categorical_accuracy: 0.8000\n",
      "Epoch 32/100\n",
      "78/78 [==============================] - 36s 466ms/step - loss: 0.3034 - categorical_accuracy: 0.8552 - val_loss: 0.4140 - val_categorical_accuracy: 0.8197\n",
      "Epoch 33/100\n",
      "78/78 [==============================] - 36s 466ms/step - loss: 0.2988 - categorical_accuracy: 0.8718 - val_loss: 0.6032 - val_categorical_accuracy: 0.7574\n",
      "Epoch 34/100\n",
      "78/78 [==============================] - 36s 467ms/step - loss: 0.3097 - categorical_accuracy: 0.8641 - val_loss: 0.5270 - val_categorical_accuracy: 0.7869\n",
      "Epoch 35/100\n",
      "78/78 [==============================] - 37s 470ms/step - loss: 0.2953 - categorical_accuracy: 0.8588 - val_loss: 0.5264 - val_categorical_accuracy: 0.7967\n",
      "Epoch 36/100\n",
      "78/78 [==============================] - 37s 470ms/step - loss: 0.3128 - categorical_accuracy: 0.8556 - val_loss: 0.5218 - val_categorical_accuracy: 0.7672\n",
      "Epoch 37/100\n",
      "78/78 [==============================] - 37s 472ms/step - loss: 0.2983 - categorical_accuracy: 0.8596 - val_loss: 0.4226 - val_categorical_accuracy: 0.7836\n",
      "Epoch 38/100\n",
      "78/78 [==============================] - 36s 466ms/step - loss: 0.3236 - categorical_accuracy: 0.8535 - val_loss: 0.4273 - val_categorical_accuracy: 0.7934\n",
      "Epoch 39/100\n",
      "78/78 [==============================] - 36s 466ms/step - loss: 0.3087 - categorical_accuracy: 0.8633 - val_loss: 0.4116 - val_categorical_accuracy: 0.8066\n",
      "Epoch 40/100\n",
      "78/78 [==============================] - 37s 475ms/step - loss: 0.2901 - categorical_accuracy: 0.8742 - val_loss: 0.6364 - val_categorical_accuracy: 0.7016\n",
      "Epoch 41/100\n",
      "78/78 [==============================] - 37s 473ms/step - loss: 0.2976 - categorical_accuracy: 0.8613 - val_loss: 0.7847 - val_categorical_accuracy: 0.6361\n",
      "Epoch 42/100\n",
      "78/78 [==============================] - 37s 475ms/step - loss: 0.2862 - categorical_accuracy: 0.8787 - val_loss: 0.4919 - val_categorical_accuracy: 0.7869\n",
      "Epoch 43/100\n",
      "78/78 [==============================] - 37s 470ms/step - loss: 0.2938 - categorical_accuracy: 0.8673 - val_loss: 0.5955 - val_categorical_accuracy: 0.7377\n",
      "Epoch 44/100\n",
      "78/78 [==============================] - 37s 475ms/step - loss: 0.2812 - categorical_accuracy: 0.8730 - val_loss: 0.4304 - val_categorical_accuracy: 0.8197\n",
      "Epoch 45/100\n",
      "78/78 [==============================] - 37s 471ms/step - loss: 0.2794 - categorical_accuracy: 0.8755 - val_loss: 0.4714 - val_categorical_accuracy: 0.8033\n",
      "Epoch 46/100\n",
      "78/78 [==============================] - 37s 475ms/step - loss: 0.3240 - categorical_accuracy: 0.8475 - val_loss: 0.8525 - val_categorical_accuracy: 0.6787\n",
      "Epoch 47/100\n",
      "78/78 [==============================] - 37s 479ms/step - loss: 0.3800 - categorical_accuracy: 0.8211 - val_loss: 0.4615 - val_categorical_accuracy: 0.8230\n",
      "Epoch 48/100\n",
      "78/78 [==============================] - 37s 478ms/step - loss: 0.3703 - categorical_accuracy: 0.8256 - val_loss: 0.4229 - val_categorical_accuracy: 0.8000\n",
      "Epoch 49/100\n",
      "78/78 [==============================] - 39s 493ms/step - loss: 0.3236 - categorical_accuracy: 0.8600 - val_loss: 0.4651 - val_categorical_accuracy: 0.7902\n",
      "Epoch 50/100\n",
      "78/78 [==============================] - 37s 473ms/step - loss: 0.2996 - categorical_accuracy: 0.8694 - val_loss: 0.5622 - val_categorical_accuracy: 0.7180\n",
      "Epoch 51/100\n",
      "78/78 [==============================] - 37s 477ms/step - loss: 0.2953 - categorical_accuracy: 0.8694 - val_loss: 0.5475 - val_categorical_accuracy: 0.7639\n",
      "Epoch 52/100\n",
      "78/78 [==============================] - 37s 479ms/step - loss: 0.2733 - categorical_accuracy: 0.8722 - val_loss: 0.3949 - val_categorical_accuracy: 0.8230\n",
      "Epoch 53/100\n",
      "78/78 [==============================] - 37s 472ms/step - loss: 0.2664 - categorical_accuracy: 0.8897 - val_loss: 0.4980 - val_categorical_accuracy: 0.7803\n",
      "Epoch 54/100\n",
      "78/78 [==============================] - 37s 469ms/step - loss: 0.2459 - categorical_accuracy: 0.8913 - val_loss: 0.4506 - val_categorical_accuracy: 0.8230\n",
      "Epoch 55/100\n",
      "78/78 [==============================] - 37s 469ms/step - loss: 0.2489 - categorical_accuracy: 0.8949 - val_loss: 0.6366 - val_categorical_accuracy: 0.7574\n",
      "Epoch 56/100\n",
      "78/78 [==============================] - 37s 472ms/step - loss: 0.3776 - categorical_accuracy: 0.8252 - val_loss: 0.4623 - val_categorical_accuracy: 0.8000\n",
      "Epoch 57/100\n",
      "78/78 [==============================] - 37s 473ms/step - loss: 0.2955 - categorical_accuracy: 0.8669 - val_loss: 0.3966 - val_categorical_accuracy: 0.8164\n",
      "Epoch 58/100\n",
      "78/78 [==============================] - 36s 466ms/step - loss: 0.2891 - categorical_accuracy: 0.8779 - val_loss: 0.4816 - val_categorical_accuracy: 0.8197\n",
      "Epoch 59/100\n",
      "78/78 [==============================] - 36s 467ms/step - loss: 0.2647 - categorical_accuracy: 0.8905 - val_loss: 0.3910 - val_categorical_accuracy: 0.8197\n",
      "Epoch 60/100\n",
      "78/78 [==============================] - 36s 467ms/step - loss: 0.2471 - categorical_accuracy: 0.8901 - val_loss: 0.4010 - val_categorical_accuracy: 0.8295\n",
      "Epoch 61/100\n",
      "78/78 [==============================] - 37s 468ms/step - loss: 0.2625 - categorical_accuracy: 0.8799 - val_loss: 0.9622 - val_categorical_accuracy: 0.7115\n",
      "Epoch 62/100\n",
      "78/78 [==============================] - 38s 489ms/step - loss: 0.2743 - categorical_accuracy: 0.8799 - val_loss: 0.3579 - val_categorical_accuracy: 0.8459\n",
      "Epoch 63/100\n",
      "78/78 [==============================] - 37s 477ms/step - loss: 0.2447 - categorical_accuracy: 0.8929 - val_loss: 0.5198 - val_categorical_accuracy: 0.7836\n",
      "Epoch 64/100\n",
      "78/78 [==============================] - 37s 473ms/step - loss: 0.2650 - categorical_accuracy: 0.8848 - val_loss: 0.4357 - val_categorical_accuracy: 0.7934\n",
      "Epoch 65/100\n",
      "78/78 [==============================] - 37s 469ms/step - loss: 0.2557 - categorical_accuracy: 0.8897 - val_loss: 0.5093 - val_categorical_accuracy: 0.7738\n",
      "Epoch 66/100\n",
      "78/78 [==============================] - 36s 467ms/step - loss: 0.2676 - categorical_accuracy: 0.8832 - val_loss: 0.5081 - val_categorical_accuracy: 0.8033\n",
      "Epoch 67/100\n",
      "78/78 [==============================] - 36s 467ms/step - loss: 0.2306 - categorical_accuracy: 0.9006 - val_loss: 0.3805 - val_categorical_accuracy: 0.8230\n",
      "Epoch 68/100\n",
      "78/78 [==============================] - 36s 467ms/step - loss: 0.2588 - categorical_accuracy: 0.8860 - val_loss: 0.4070 - val_categorical_accuracy: 0.8557\n",
      "Epoch 69/100\n",
      "78/78 [==============================] - 36s 467ms/step - loss: 0.2479 - categorical_accuracy: 0.8929 - val_loss: 0.4498 - val_categorical_accuracy: 0.8328\n",
      "Epoch 70/100\n",
      "78/78 [==============================] - 36s 468ms/step - loss: 0.2514 - categorical_accuracy: 0.8937 - val_loss: 0.3883 - val_categorical_accuracy: 0.8098\n",
      "Epoch 71/100\n",
      "78/78 [==============================] - 36s 468ms/step - loss: 0.2358 - categorical_accuracy: 0.8982 - val_loss: 0.4808 - val_categorical_accuracy: 0.7902\n",
      "Epoch 72/100\n",
      "78/78 [==============================] - 36s 467ms/step - loss: 0.2416 - categorical_accuracy: 0.8913 - val_loss: 0.6648 - val_categorical_accuracy: 0.7311\n",
      "Epoch 73/100\n",
      "78/78 [==============================] - 37s 472ms/step - loss: 0.2461 - categorical_accuracy: 0.8921 - val_loss: 0.4189 - val_categorical_accuracy: 0.8066\n",
      "Epoch 74/100\n",
      "78/78 [==============================] - 38s 491ms/step - loss: 0.2292 - categorical_accuracy: 0.8974 - val_loss: 0.5046 - val_categorical_accuracy: 0.8361\n",
      "Epoch 75/100\n",
      "78/78 [==============================] - 36s 466ms/step - loss: 0.2404 - categorical_accuracy: 0.8966 - val_loss: 0.4559 - val_categorical_accuracy: 0.8393\n",
      "Epoch 76/100\n",
      "78/78 [==============================] - 38s 484ms/step - loss: 0.2334 - categorical_accuracy: 0.8974 - val_loss: 0.4471 - val_categorical_accuracy: 0.8197\n",
      "Epoch 77/100\n",
      "78/78 [==============================] - 38s 492ms/step - loss: 0.2348 - categorical_accuracy: 0.8961 - val_loss: 0.3730 - val_categorical_accuracy: 0.8426\n",
      "Epoch 78/100\n",
      "78/78 [==============================] - 37s 476ms/step - loss: 0.2188 - categorical_accuracy: 0.9051 - val_loss: 0.3660 - val_categorical_accuracy: 0.8426\n",
      "Epoch 79/100\n",
      "78/78 [==============================] - 36s 468ms/step - loss: 0.2225 - categorical_accuracy: 0.9014 - val_loss: 0.3953 - val_categorical_accuracy: 0.8295\n",
      "Epoch 80/100\n",
      "78/78 [==============================] - 36s 466ms/step - loss: 0.2231 - categorical_accuracy: 0.9039 - val_loss: 0.4964 - val_categorical_accuracy: 0.7967\n",
      "Epoch 81/100\n",
      "78/78 [==============================] - 36s 465ms/step - loss: 0.2376 - categorical_accuracy: 0.9043 - val_loss: 0.4670 - val_categorical_accuracy: 0.8066\n",
      "Epoch 82/100\n",
      "78/78 [==============================] - 36s 465ms/step - loss: 0.2405 - categorical_accuracy: 0.8941 - val_loss: 0.5871 - val_categorical_accuracy: 0.7934\n",
      "Epoch 83/100\n",
      "78/78 [==============================] - 36s 467ms/step - loss: 0.2472 - categorical_accuracy: 0.8978 - val_loss: 0.3885 - val_categorical_accuracy: 0.8426\n",
      "Epoch 84/100\n",
      "78/78 [==============================] - 37s 470ms/step - loss: 0.2236 - categorical_accuracy: 0.9002 - val_loss: 0.4061 - val_categorical_accuracy: 0.8230\n",
      "Epoch 85/100\n",
      "78/78 [==============================] - 36s 466ms/step - loss: 0.2174 - categorical_accuracy: 0.9059 - val_loss: 0.4632 - val_categorical_accuracy: 0.7836\n",
      "Epoch 86/100\n",
      "78/78 [==============================] - 36s 464ms/step - loss: 0.2000 - categorical_accuracy: 0.9140 - val_loss: 0.6185 - val_categorical_accuracy: 0.8164\n",
      "Epoch 87/100\n",
      "78/78 [==============================] - 36s 464ms/step - loss: 0.2272 - categorical_accuracy: 0.9063 - val_loss: 0.4795 - val_categorical_accuracy: 0.8066\n",
      "Epoch 88/100\n",
      "78/78 [==============================] - 36s 464ms/step - loss: 0.2207 - categorical_accuracy: 0.9006 - val_loss: 0.5116 - val_categorical_accuracy: 0.8098\n",
      "Epoch 89/100\n",
      "78/78 [==============================] - 36s 465ms/step - loss: 0.2239 - categorical_accuracy: 0.9014 - val_loss: 0.4631 - val_categorical_accuracy: 0.8164\n",
      "Epoch 90/100\n",
      "78/78 [==============================] - 36s 463ms/step - loss: 0.2086 - categorical_accuracy: 0.9055 - val_loss: 0.5693 - val_categorical_accuracy: 0.7869\n",
      "Epoch 91/100\n",
      "78/78 [==============================] - 36s 466ms/step - loss: 0.2404 - categorical_accuracy: 0.8933 - val_loss: 0.4795 - val_categorical_accuracy: 0.8098\n",
      "Epoch 92/100\n",
      "78/78 [==============================] - 36s 463ms/step - loss: 0.2529 - categorical_accuracy: 0.8880 - val_loss: 0.4756 - val_categorical_accuracy: 0.7967\n",
      "Epoch 93/100\n",
      "78/78 [==============================] - 36s 466ms/step - loss: 0.2200 - categorical_accuracy: 0.9063 - val_loss: 0.4085 - val_categorical_accuracy: 0.8459\n",
      "Epoch 94/100\n",
      "78/78 [==============================] - 36s 464ms/step - loss: 0.2210 - categorical_accuracy: 0.9075 - val_loss: 0.3728 - val_categorical_accuracy: 0.8328\n",
      "Epoch 95/100\n",
      "78/78 [==============================] - 36s 466ms/step - loss: 0.2298 - categorical_accuracy: 0.8998 - val_loss: 0.5044 - val_categorical_accuracy: 0.8164\n",
      "Epoch 96/100\n",
      "78/78 [==============================] - 36s 465ms/step - loss: 0.2379 - categorical_accuracy: 0.8917 - val_loss: 0.4888 - val_categorical_accuracy: 0.7836\n",
      "Epoch 97/100\n"
     ]
    },
    {
     "name": "stdout",
     "output_type": "stream",
     "text": [
      "78/78 [==============================] - 36s 466ms/step - loss: 0.2217 - categorical_accuracy: 0.9095 - val_loss: 0.3742 - val_categorical_accuracy: 0.8492\n",
      "Epoch 98/100\n",
      "78/78 [==============================] - 36s 466ms/step - loss: 0.1989 - categorical_accuracy: 0.9144 - val_loss: 0.4709 - val_categorical_accuracy: 0.8459\n",
      "Epoch 99/100\n",
      "78/78 [==============================] - 36s 465ms/step - loss: 0.2262 - categorical_accuracy: 0.8990 - val_loss: 0.5070 - val_categorical_accuracy: 0.8000\n",
      "Epoch 100/100\n",
      "78/78 [==============================] - 36s 465ms/step - loss: 0.2118 - categorical_accuracy: 0.9128 - val_loss: 0.3688 - val_categorical_accuracy: 0.8492\n"
     ]
    }
   ],
   "source": [
    "# 89 acc\n",
    "rlrop = callbacks.ReduceLROnPlateau(monitor='val_categorical_accuracy', factor=0.2, patience=70)\n",
    "MODEL.compile(loss='categorical_crossentropy', optimizer='RMSProp', metrics=['categorical_accuracy'])\n",
    "model = MODEL.fit(X_train, y_train_class, epochs=100, batch_size= 32, validation_data=(X_val, y_val_class))"
   ]
  },
  {
   "cell_type": "code",
   "execution_count": 29,
   "id": "981c010d",
   "metadata": {},
   "outputs": [],
   "source": [
    "from sklearn.metrics import confusion_matrix"
   ]
  },
  {
   "cell_type": "code",
   "execution_count": 30,
   "id": "c127d9bc",
   "metadata": {},
   "outputs": [
    {
     "data": {
      "image/png": "[encoded data removed]",
      "text/plain": [
       "<Figure size 500x500 with 1 Axes>"
      ]
     },
     "metadata": {},
     "output_type": "display_data"
    }
   ],
   "source": [
    "plt.figure(figsize=(5, 5)) \n",
    "plt.plot(model.history['loss'])\n",
    "plt.plot(model.history['val_loss'])\n",
    "plt.title('Loss for Train and Validation Sets')\n",
    "plt.ylabel('Loss') \n",
    "plt.xlabel('Epochs')\n",
    "plt.legend(['Training','Validation']) \n",
    "plt.show()"
   ]
  },
  {
   "cell_type": "code",
   "execution_count": 31,
   "id": "7fe5a1d8",
   "metadata": {},
   "outputs": [
    {
     "data": {
      "image/png": "[encoded data removed]",
      "text/plain": [
       "<Figure size 500x500 with 1 Axes>"
      ]
     },
     "metadata": {},
     "output_type": "display_data"
    }
   ],
   "source": [
    "plt.figure(figsize=(5, 5)) \n",
    "plt.plot(model.history['categorical_accuracy'])\n",
    "plt.plot(model.history['val_categorical_accuracy'])\n",
    "plt.ylabel('Accuracy') \n",
    "plt.xlabel('Epochs') \n",
    "plt.legend(['Training','Validation']) \n",
    "plt.show()"
   ]
  },
  {
   "cell_type": "code",
   "execution_count": 35,
   "id": "fe79a04e",
   "metadata": {},
   "outputs": [
    {
     "name": "stdout",
     "output_type": "stream",
     "text": [
      "Accuracy: 0.8590163934426229\n",
      "Precision: 0.8670886075949367\n",
      "Recall: 0.8616352201257862\n",
      "F1 Score: 0.8643533123028392\n"
     ]
    }
   ],
   "source": [
    "accuracy = np.trace(cm) / np.sum(cm)\n",
    "precision = cm[1, 1] / np.sum(cm[:, 1])\n",
    "recall = cm[1, 1] / np.sum(cm[1, :])\n",
    "f1 = 2 * (precision * recall) / (precision + recall)\n",
    "\n",
    "# Print metrics\n",
    "print(\"Accuracy:\", accuracy)\n",
    "print(\"Precision:\", precision)\n",
    "print(\"Recall:\", recall)\n",
    "print(\"F1 Score:\", f1)"
   ]
  },
  {
   "cell_type": "code",
   "execution_count": 36,
   "id": "18df1a7a",
   "metadata": {},
   "outputs": [],
   "source": [
    "# !pip install soundfile"
   ]
  },
  {
   "cell_type": "code",
   "execution_count": 37,
   "id": "b63f4d66",
   "metadata": {},
   "outputs": [],
   "source": [
    "# !pip install sounddevice"
   ]
  },
  {
   "cell_type": "code",
   "execution_count": 38,
   "id": "c5aa8779",
   "metadata": {},
   "outputs": [],
   "source": [
    "# !pip install wavio"
   ]
  },
  {
   "cell_type": "code",
   "execution_count": 39,
   "id": "a38884b6",
   "metadata": {},
   "outputs": [],
   "source": [
    "# !pip install sounddvice"
   ]
  },
  {
   "cell_type": "code",
   "execution_count": 106,
   "id": "088f356e",
   "metadata": {},
   "outputs": [
    {
     "name": "stderr",
     "output_type": "stream",
     "text": [
      "/Users/mac/anaconda3/lib/python3.10/site-packages/wavio.py:259: ClippedDataWarning: Some data values have been clipped.  With scale=1.0, the interval of input values that will not be clipped is [-1.0000305180437934, 1.0]\n",
      "  _warnings.warn(ClippedDataWarning(msg))\n"
     ]
    }
   ],
   "source": [
    "import sounddevice as sd\n",
    "from scipy.io.wavfile import write\n",
    "import wavio as wv\n",
    "# Sampling frequency\n",
    "freq = 44100\n",
    "\n",
    "# Recording duration\n",
    "duration = 4\n",
    "\n",
    "# Start recorder with the given values\n",
    "# of duration and sample frequency\n",
    "recording = sd.rec(int(duration * freq), samplerate=freq, channels=1)\n",
    "\n",
    "# Record audio for the given number of seconds\n",
    "sd.wait()\n",
    "\n",
    "# This will convert the NumPy array to an audio\n",
    "# file with the given sampling frequency\n",
    "write(\"recording0.wav\", freq, recording)\n",
    "wv.write(\"recording1.wav\", recording, freq, sampwidth=2)"
   ]
  },
  {
   "cell_type": "code",
   "execution_count": 107,
   "id": "5de7c2b8",
   "metadata": {
    "scrolled": false
   },
   "outputs": [],
   "source": [
    "zcr_list = []\n",
    "rms_list = []\n",
    "mfccs_list = []\n",
    "\n",
    "\n",
    "FRAME_LENGTH = 2048\n",
    "HOP_LENGTH = 512\n",
    "\n",
    "y, sr = preprocess_audio(\"recording1.wav\")\n",
    "\n",
    "zcr = librosa.feature.zero_crossing_rate(y, frame_length=FRAME_LENGTH, hop_length=HOP_LENGTH)\n",
    "rms = librosa.feature.rms(y=y, frame_length=FRAME_LENGTH, hop_length=HOP_LENGTH)\n",
    "mfccs = librosa.feature.mfcc(y=y, sr=sr, n_mfcc=13, hop_length=HOP_LENGTH)\n",
    "\n",
    "zcr_list.append(zcr)\n",
    "rms_list.append(rms)\n",
    "mfccs_list.append(mfccs)"
   ]
  },
  {
   "cell_type": "code",
   "execution_count": 108,
   "id": "ce0d4ada",
   "metadata": {},
   "outputs": [],
   "source": [
    "X = np.concatenate((\n",
    "    np.swapaxes(zcr_list, 1, 2), \n",
    "    np.swapaxes(rms_list, 1, 2), \n",
    "    np.swapaxes(mfccs_list, 1, 2)), \n",
    "    axis=2\n",
    ")\n",
    "X = X.astype('float32')\n",
    "y = np.asarray(emotion_list)\n",
    "y = np.expand_dims(y, axis=1).astype('int8')"
   ]
  },
  {
   "cell_type": "code",
   "execution_count": 109,
   "id": "0dbd40ad",
   "metadata": {},
   "outputs": [
    {
     "name": "stdout",
     "output_type": "stream",
     "text": [
      "1/1 [==============================] - 0s 42ms/step\n"
     ]
    }
   ],
   "source": [
    "y_pred = np.argmax(MODEL.predict(X), axis=1)"
   ]
  },
  {
   "cell_type": "code",
   "execution_count": 110,
   "id": "2bb1060d",
   "metadata": {
    "scrolled": true
   },
   "outputs": [
    {
     "data": {
      "text/plain": [
       "0"
      ]
     },
     "execution_count": 110,
     "metadata": {},
     "output_type": "execute_result"
    }
   ],
   "source": [
    "y_pred[0]"
   ]
  }
 ],
 "metadata": {
  "kernelspec": {
   "display_name": "Python 3 (ipykernel)",
   "language": "python",
   "name": "python3"
  },
  "language_info": {
   "codemirror_mode": {
    "name": "ipython",
    "version": 3
   },
   "file_extension": ".py",
   "mimetype": "text/x-python",
   "name": "python",
   "nbconvert_exporter": "python",
   "pygments_lexer": "ipython3",
   "version": "3.10.9"
  }
 },
 "nbformat": 4,
 "nbformat_minor": 5
}
